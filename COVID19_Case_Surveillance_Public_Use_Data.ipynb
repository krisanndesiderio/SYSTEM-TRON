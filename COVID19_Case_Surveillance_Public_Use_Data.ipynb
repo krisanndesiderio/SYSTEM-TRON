{
  "nbformat": 4,
  "nbformat_minor": 0,
  "metadata": {
    "colab": {
      "name": "COVID19-Case Surveillance Public Use Data.ipynb",
      "provenance": [],
      "collapsed_sections": [],
      "include_colab_link": true
    },
    "kernelspec": {
      "name": "python3",
      "display_name": "Python 3"
    },
    "language_info": {
      "name": "python"
    }
  },
  "cells": [
    {
      "cell_type": "markdown",
      "metadata": {
        "id": "view-in-github",
        "colab_type": "text"
      },
      "source": [
        "<a href=\"https://colab.research.google.com/github/krisanndesiderio/SYSTEM-TRON/blob/main/COVID19_Case_Surveillance_Public_Use_Data.ipynb\" target=\"_parent\"><img src=\"https://colab.research.google.com/assets/colab-badge.svg\" alt=\"Open In Colab\"/></a>"
      ]
    },
    {
      "cell_type": "markdown",
      "source": [
        "COVID19-case Surveillance Public Use Data"
      ],
      "metadata": {
        "id": "wGs4vbIXtdo2"
      }
    },
    {
      "cell_type": "code",
      "source": [
        "import numpy as np\n",
        "import pandas as pd\n",
        "from google.colab import files\n",
        "import io\n",
        "import matplotlib.pyplot as plt\n",
        "from google.colab import data_table"
      ],
      "metadata": {
        "id": "h3DnXezQsq_1"
      },
      "execution_count": 19,
      "outputs": []
    },
    {
      "cell_type": "code",
      "source": [
        "url = 'https://raw.githubusercontent.com/krisanndesiderio/SYSTEM-TRON/main/COVID-19_Case_Surveillance_Public_Use_Data.csv'"
      ],
      "metadata": {
        "id": "5AP7IWT2aOQJ"
      },
      "execution_count": 20,
      "outputs": []
    },
    {
      "cell_type": "code",
      "source": [
        "dataset = pd.read_csv(url)"
      ],
      "metadata": {
        "id": "GXoGXVNVamAB"
      },
      "execution_count": 21,
      "outputs": []
    },
    {
      "cell_type": "code",
      "source": [
        "dataset.head(600)"
      ],
      "metadata": {
        "colab": {
          "base_uri": "https://localhost:8080/",
          "height": 659
        },
        "id": "gFMnYG4Ac1cK",
        "outputId": "5a515ba3-81e9-4d8e-c67f-650df37f0188"
      },
      "execution_count": 22,
      "outputs": [
        {
          "output_type": "execute_result",
          "data": {
            "text/plain": [
              "    cdc_report_dt pos_spec_dt    onset_dt             current_status   sex  \\\n",
              "0      10/11/2020  10/11/2020         NaN  Laboratory-confirmed case  Male   \n",
              "1      14/11/2020  10/11/2020  10/11/2020  Laboratory-confirmed case  Male   \n",
              "2      19/11/2020  10/11/2020  09/11/2020  Laboratory-confirmed case  Male   \n",
              "3      14/11/2020  10/11/2020         NaN  Laboratory-confirmed case  Male   \n",
              "4      13/11/2020  10/11/2020  10/11/2020  Laboratory-confirmed case  Male   \n",
              "..            ...         ...         ...                        ...   ...   \n",
              "594    18/11/2020         NaN  16/11/2020  Laboratory-confirmed case  Male   \n",
              "595    21/10/2020         NaN  11/08/2020  Laboratory-confirmed case  Male   \n",
              "596    07/08/2020         NaN  25/07/2020  Laboratory-confirmed case  Male   \n",
              "597    24/06/2020         NaN  25/04/2020  Laboratory-confirmed case  Male   \n",
              "598    14/11/2020         NaN  02/11/2020  Laboratory-confirmed case  Male   \n",
              "\n",
              "         age_group Race and ethnicity (combined)  hosp_yn   icu_yn death_yn  \\\n",
              "0    10 - 19 Years           Black, Non-Hispanic       No  Unknown       No   \n",
              "1    10 - 19 Years           Black, Non-Hispanic       No       No       No   \n",
              "2    10 - 19 Years           Black, Non-Hispanic       No       No       No   \n",
              "3    10 - 19 Years           Black, Non-Hispanic  Missing  Missing       No   \n",
              "4    10 - 19 Years           Black, Non-Hispanic       No       No       No   \n",
              "..             ...                           ...      ...      ...      ...   \n",
              "594  20 - 29 Years               Hispanic/Latino  Missing  Missing  Missing   \n",
              "595  20 - 29 Years               Hispanic/Latino       No  Missing       No   \n",
              "596  20 - 29 Years               Hispanic/Latino       No  Missing  Unknown   \n",
              "597  20 - 29 Years               Hispanic/Latino  Unknown  Unknown  Unknown   \n",
              "598  20 - 29 Years               Hispanic/Latino  Missing  Missing  Missing   \n",
              "\n",
              "    medcond_yn  \n",
              "0           No  \n",
              "1           No  \n",
              "2           No  \n",
              "3      Missing  \n",
              "4          Yes  \n",
              "..         ...  \n",
              "594    Missing  \n",
              "595    Missing  \n",
              "596    Missing  \n",
              "597    Missing  \n",
              "598    Missing  \n",
              "\n",
              "[599 rows x 11 columns]"
            ],
            "text/html": [
              "\n",
              "  <div id=\"df-2646b1de-e87c-4fc1-82ea-ffeedc75f4ff\">\n",
              "    <div class=\"colab-df-container\">\n",
              "      <div>\n",
              "<style scoped>\n",
              "    .dataframe tbody tr th:only-of-type {\n",
              "        vertical-align: middle;\n",
              "    }\n",
              "\n",
              "    .dataframe tbody tr th {\n",
              "        vertical-align: top;\n",
              "    }\n",
              "\n",
              "    .dataframe thead th {\n",
              "        text-align: right;\n",
              "    }\n",
              "</style>\n",
              "<table border=\"1\" class=\"dataframe\">\n",
              "  <thead>\n",
              "    <tr style=\"text-align: right;\">\n",
              "      <th></th>\n",
              "      <th>cdc_report_dt</th>\n",
              "      <th>pos_spec_dt</th>\n",
              "      <th>onset_dt</th>\n",
              "      <th>current_status</th>\n",
              "      <th>sex</th>\n",
              "      <th>age_group</th>\n",
              "      <th>Race and ethnicity (combined)</th>\n",
              "      <th>hosp_yn</th>\n",
              "      <th>icu_yn</th>\n",
              "      <th>death_yn</th>\n",
              "      <th>medcond_yn</th>\n",
              "    </tr>\n",
              "  </thead>\n",
              "  <tbody>\n",
              "    <tr>\n",
              "      <th>0</th>\n",
              "      <td>10/11/2020</td>\n",
              "      <td>10/11/2020</td>\n",
              "      <td>NaN</td>\n",
              "      <td>Laboratory-confirmed case</td>\n",
              "      <td>Male</td>\n",
              "      <td>10 - 19 Years</td>\n",
              "      <td>Black, Non-Hispanic</td>\n",
              "      <td>No</td>\n",
              "      <td>Unknown</td>\n",
              "      <td>No</td>\n",
              "      <td>No</td>\n",
              "    </tr>\n",
              "    <tr>\n",
              "      <th>1</th>\n",
              "      <td>14/11/2020</td>\n",
              "      <td>10/11/2020</td>\n",
              "      <td>10/11/2020</td>\n",
              "      <td>Laboratory-confirmed case</td>\n",
              "      <td>Male</td>\n",
              "      <td>10 - 19 Years</td>\n",
              "      <td>Black, Non-Hispanic</td>\n",
              "      <td>No</td>\n",
              "      <td>No</td>\n",
              "      <td>No</td>\n",
              "      <td>No</td>\n",
              "    </tr>\n",
              "    <tr>\n",
              "      <th>2</th>\n",
              "      <td>19/11/2020</td>\n",
              "      <td>10/11/2020</td>\n",
              "      <td>09/11/2020</td>\n",
              "      <td>Laboratory-confirmed case</td>\n",
              "      <td>Male</td>\n",
              "      <td>10 - 19 Years</td>\n",
              "      <td>Black, Non-Hispanic</td>\n",
              "      <td>No</td>\n",
              "      <td>No</td>\n",
              "      <td>No</td>\n",
              "      <td>No</td>\n",
              "    </tr>\n",
              "    <tr>\n",
              "      <th>3</th>\n",
              "      <td>14/11/2020</td>\n",
              "      <td>10/11/2020</td>\n",
              "      <td>NaN</td>\n",
              "      <td>Laboratory-confirmed case</td>\n",
              "      <td>Male</td>\n",
              "      <td>10 - 19 Years</td>\n",
              "      <td>Black, Non-Hispanic</td>\n",
              "      <td>Missing</td>\n",
              "      <td>Missing</td>\n",
              "      <td>No</td>\n",
              "      <td>Missing</td>\n",
              "    </tr>\n",
              "    <tr>\n",
              "      <th>4</th>\n",
              "      <td>13/11/2020</td>\n",
              "      <td>10/11/2020</td>\n",
              "      <td>10/11/2020</td>\n",
              "      <td>Laboratory-confirmed case</td>\n",
              "      <td>Male</td>\n",
              "      <td>10 - 19 Years</td>\n",
              "      <td>Black, Non-Hispanic</td>\n",
              "      <td>No</td>\n",
              "      <td>No</td>\n",
              "      <td>No</td>\n",
              "      <td>Yes</td>\n",
              "    </tr>\n",
              "    <tr>\n",
              "      <th>...</th>\n",
              "      <td>...</td>\n",
              "      <td>...</td>\n",
              "      <td>...</td>\n",
              "      <td>...</td>\n",
              "      <td>...</td>\n",
              "      <td>...</td>\n",
              "      <td>...</td>\n",
              "      <td>...</td>\n",
              "      <td>...</td>\n",
              "      <td>...</td>\n",
              "      <td>...</td>\n",
              "    </tr>\n",
              "    <tr>\n",
              "      <th>594</th>\n",
              "      <td>18/11/2020</td>\n",
              "      <td>NaN</td>\n",
              "      <td>16/11/2020</td>\n",
              "      <td>Laboratory-confirmed case</td>\n",
              "      <td>Male</td>\n",
              "      <td>20 - 29 Years</td>\n",
              "      <td>Hispanic/Latino</td>\n",
              "      <td>Missing</td>\n",
              "      <td>Missing</td>\n",
              "      <td>Missing</td>\n",
              "      <td>Missing</td>\n",
              "    </tr>\n",
              "    <tr>\n",
              "      <th>595</th>\n",
              "      <td>21/10/2020</td>\n",
              "      <td>NaN</td>\n",
              "      <td>11/08/2020</td>\n",
              "      <td>Laboratory-confirmed case</td>\n",
              "      <td>Male</td>\n",
              "      <td>20 - 29 Years</td>\n",
              "      <td>Hispanic/Latino</td>\n",
              "      <td>No</td>\n",
              "      <td>Missing</td>\n",
              "      <td>No</td>\n",
              "      <td>Missing</td>\n",
              "    </tr>\n",
              "    <tr>\n",
              "      <th>596</th>\n",
              "      <td>07/08/2020</td>\n",
              "      <td>NaN</td>\n",
              "      <td>25/07/2020</td>\n",
              "      <td>Laboratory-confirmed case</td>\n",
              "      <td>Male</td>\n",
              "      <td>20 - 29 Years</td>\n",
              "      <td>Hispanic/Latino</td>\n",
              "      <td>No</td>\n",
              "      <td>Missing</td>\n",
              "      <td>Unknown</td>\n",
              "      <td>Missing</td>\n",
              "    </tr>\n",
              "    <tr>\n",
              "      <th>597</th>\n",
              "      <td>24/06/2020</td>\n",
              "      <td>NaN</td>\n",
              "      <td>25/04/2020</td>\n",
              "      <td>Laboratory-confirmed case</td>\n",
              "      <td>Male</td>\n",
              "      <td>20 - 29 Years</td>\n",
              "      <td>Hispanic/Latino</td>\n",
              "      <td>Unknown</td>\n",
              "      <td>Unknown</td>\n",
              "      <td>Unknown</td>\n",
              "      <td>Missing</td>\n",
              "    </tr>\n",
              "    <tr>\n",
              "      <th>598</th>\n",
              "      <td>14/11/2020</td>\n",
              "      <td>NaN</td>\n",
              "      <td>02/11/2020</td>\n",
              "      <td>Laboratory-confirmed case</td>\n",
              "      <td>Male</td>\n",
              "      <td>20 - 29 Years</td>\n",
              "      <td>Hispanic/Latino</td>\n",
              "      <td>Missing</td>\n",
              "      <td>Missing</td>\n",
              "      <td>Missing</td>\n",
              "      <td>Missing</td>\n",
              "    </tr>\n",
              "  </tbody>\n",
              "</table>\n",
              "<p>599 rows × 11 columns</p>\n",
              "</div>\n",
              "      <button class=\"colab-df-convert\" onclick=\"convertToInteractive('df-2646b1de-e87c-4fc1-82ea-ffeedc75f4ff')\"\n",
              "              title=\"Convert this dataframe to an interactive table.\"\n",
              "              style=\"display:none;\">\n",
              "        \n",
              "  <svg xmlns=\"http://www.w3.org/2000/svg\" height=\"24px\"viewBox=\"0 0 24 24\"\n",
              "       width=\"24px\">\n",
              "    <path d=\"M0 0h24v24H0V0z\" fill=\"none\"/>\n",
              "    <path d=\"M18.56 5.44l.94 2.06.94-2.06 2.06-.94-2.06-.94-.94-2.06-.94 2.06-2.06.94zm-11 1L8.5 8.5l.94-2.06 2.06-.94-2.06-.94L8.5 2.5l-.94 2.06-2.06.94zm10 10l.94 2.06.94-2.06 2.06-.94-2.06-.94-.94-2.06-.94 2.06-2.06.94z\"/><path d=\"M17.41 7.96l-1.37-1.37c-.4-.4-.92-.59-1.43-.59-.52 0-1.04.2-1.43.59L10.3 9.45l-7.72 7.72c-.78.78-.78 2.05 0 2.83L4 21.41c.39.39.9.59 1.41.59.51 0 1.02-.2 1.41-.59l7.78-7.78 2.81-2.81c.8-.78.8-2.07 0-2.86zM5.41 20L4 18.59l7.72-7.72 1.47 1.35L5.41 20z\"/>\n",
              "  </svg>\n",
              "      </button>\n",
              "      \n",
              "  <style>\n",
              "    .colab-df-container {\n",
              "      display:flex;\n",
              "      flex-wrap:wrap;\n",
              "      gap: 12px;\n",
              "    }\n",
              "\n",
              "    .colab-df-convert {\n",
              "      background-color: #E8F0FE;\n",
              "      border: none;\n",
              "      border-radius: 50%;\n",
              "      cursor: pointer;\n",
              "      display: none;\n",
              "      fill: #1967D2;\n",
              "      height: 32px;\n",
              "      padding: 0 0 0 0;\n",
              "      width: 32px;\n",
              "    }\n",
              "\n",
              "    .colab-df-convert:hover {\n",
              "      background-color: #E2EBFA;\n",
              "      box-shadow: 0px 1px 2px rgba(60, 64, 67, 0.3), 0px 1px 3px 1px rgba(60, 64, 67, 0.15);\n",
              "      fill: #174EA6;\n",
              "    }\n",
              "\n",
              "    [theme=dark] .colab-df-convert {\n",
              "      background-color: #3B4455;\n",
              "      fill: #D2E3FC;\n",
              "    }\n",
              "\n",
              "    [theme=dark] .colab-df-convert:hover {\n",
              "      background-color: #434B5C;\n",
              "      box-shadow: 0px 1px 3px 1px rgba(0, 0, 0, 0.15);\n",
              "      filter: drop-shadow(0px 1px 2px rgba(0, 0, 0, 0.3));\n",
              "      fill: #FFFFFF;\n",
              "    }\n",
              "  </style>\n",
              "\n",
              "      <script>\n",
              "        const buttonEl =\n",
              "          document.querySelector('#df-2646b1de-e87c-4fc1-82ea-ffeedc75f4ff button.colab-df-convert');\n",
              "        buttonEl.style.display =\n",
              "          google.colab.kernel.accessAllowed ? 'block' : 'none';\n",
              "\n",
              "        async function convertToInteractive(key) {\n",
              "          const element = document.querySelector('#df-2646b1de-e87c-4fc1-82ea-ffeedc75f4ff');\n",
              "          const dataTable =\n",
              "            await google.colab.kernel.invokeFunction('convertToInteractive',\n",
              "                                                     [key], {});\n",
              "          if (!dataTable) return;\n",
              "\n",
              "          const docLinkHtml = 'Like what you see? Visit the ' +\n",
              "            '<a target=\"_blank\" href=https://colab.research.google.com/notebooks/data_table.ipynb>data table notebook</a>'\n",
              "            + ' to learn more about interactive tables.';\n",
              "          element.innerHTML = '';\n",
              "          dataTable['output_type'] = 'display_data';\n",
              "          await google.colab.output.renderOutput(dataTable, element);\n",
              "          const docLink = document.createElement('div');\n",
              "          docLink.innerHTML = docLinkHtml;\n",
              "          element.appendChild(docLink);\n",
              "        }\n",
              "      </script>\n",
              "    </div>\n",
              "  </div>\n",
              "  "
            ]
          },
          "metadata": {},
          "execution_count": 22
        }
      ]
    },
    {
      "cell_type": "markdown",
      "source": [
        "Data Cleaning"
      ],
      "metadata": {
        "id": "p3IincU1dTvQ"
      }
    },
    {
      "cell_type": "markdown",
      "source": [
        "Checking Nulls\n",
        "\n"
      ],
      "metadata": {
        "id": "EgOdO_0dddLN"
      }
    },
    {
      "cell_type": "code",
      "source": [
        "dataset.isnull().sum()"
      ],
      "metadata": {
        "id": "Qt2BOV3KW4TM",
        "colab": {
          "base_uri": "https://localhost:8080/"
        },
        "outputId": "bfcbd50b-26cd-4315-c1e2-ea202dd75a10"
      },
      "execution_count": 23,
      "outputs": [
        {
          "output_type": "execute_result",
          "data": {
            "text/plain": [
              "cdc_report_dt                      0\n",
              "pos_spec_dt                      200\n",
              "onset_dt                         266\n",
              "current_status                     0\n",
              "sex                                0\n",
              "age_group                          0\n",
              "Race and ethnicity (combined)      0\n",
              "hosp_yn                            0\n",
              "icu_yn                             0\n",
              "death_yn                           0\n",
              "medcond_yn                         0\n",
              "dtype: int64"
            ]
          },
          "metadata": {},
          "execution_count": 23
        }
      ]
    },
    {
      "cell_type": "markdown",
      "source": [
        "Removing column"
      ],
      "metadata": {
        "id": "7jQmmknPm-sU"
      }
    },
    {
      "cell_type": "code",
      "source": [
        "dataset.drop(['pos_spec_dt'], axis = 1, inplace=True)\n",
        "dataset.head(600)"
      ],
      "metadata": {
        "colab": {
          "base_uri": "https://localhost:8080/",
          "height": 424
        },
        "id": "Xs0MmLB9nBeQ",
        "outputId": "72644dec-51a0-4cd3-e49a-31c4fdb1f9cb"
      },
      "execution_count": 24,
      "outputs": [
        {
          "output_type": "execute_result",
          "data": {
            "text/plain": [
              "    cdc_report_dt    onset_dt             current_status   sex      age_group  \\\n",
              "0      10/11/2020         NaN  Laboratory-confirmed case  Male  10 - 19 Years   \n",
              "1      14/11/2020  10/11/2020  Laboratory-confirmed case  Male  10 - 19 Years   \n",
              "2      19/11/2020  09/11/2020  Laboratory-confirmed case  Male  10 - 19 Years   \n",
              "3      14/11/2020         NaN  Laboratory-confirmed case  Male  10 - 19 Years   \n",
              "4      13/11/2020  10/11/2020  Laboratory-confirmed case  Male  10 - 19 Years   \n",
              "..            ...         ...                        ...   ...            ...   \n",
              "594    18/11/2020  16/11/2020  Laboratory-confirmed case  Male  20 - 29 Years   \n",
              "595    21/10/2020  11/08/2020  Laboratory-confirmed case  Male  20 - 29 Years   \n",
              "596    07/08/2020  25/07/2020  Laboratory-confirmed case  Male  20 - 29 Years   \n",
              "597    24/06/2020  25/04/2020  Laboratory-confirmed case  Male  20 - 29 Years   \n",
              "598    14/11/2020  02/11/2020  Laboratory-confirmed case  Male  20 - 29 Years   \n",
              "\n",
              "    Race and ethnicity (combined)  hosp_yn   icu_yn death_yn medcond_yn  \n",
              "0             Black, Non-Hispanic       No  Unknown       No         No  \n",
              "1             Black, Non-Hispanic       No       No       No         No  \n",
              "2             Black, Non-Hispanic       No       No       No         No  \n",
              "3             Black, Non-Hispanic  Missing  Missing       No    Missing  \n",
              "4             Black, Non-Hispanic       No       No       No        Yes  \n",
              "..                            ...      ...      ...      ...        ...  \n",
              "594               Hispanic/Latino  Missing  Missing  Missing    Missing  \n",
              "595               Hispanic/Latino       No  Missing       No    Missing  \n",
              "596               Hispanic/Latino       No  Missing  Unknown    Missing  \n",
              "597               Hispanic/Latino  Unknown  Unknown  Unknown    Missing  \n",
              "598               Hispanic/Latino  Missing  Missing  Missing    Missing  \n",
              "\n",
              "[599 rows x 10 columns]"
            ],
            "text/html": [
              "\n",
              "  <div id=\"df-b5062ff1-3fea-4268-9c53-bebd645a84bb\">\n",
              "    <div class=\"colab-df-container\">\n",
              "      <div>\n",
              "<style scoped>\n",
              "    .dataframe tbody tr th:only-of-type {\n",
              "        vertical-align: middle;\n",
              "    }\n",
              "\n",
              "    .dataframe tbody tr th {\n",
              "        vertical-align: top;\n",
              "    }\n",
              "\n",
              "    .dataframe thead th {\n",
              "        text-align: right;\n",
              "    }\n",
              "</style>\n",
              "<table border=\"1\" class=\"dataframe\">\n",
              "  <thead>\n",
              "    <tr style=\"text-align: right;\">\n",
              "      <th></th>\n",
              "      <th>cdc_report_dt</th>\n",
              "      <th>onset_dt</th>\n",
              "      <th>current_status</th>\n",
              "      <th>sex</th>\n",
              "      <th>age_group</th>\n",
              "      <th>Race and ethnicity (combined)</th>\n",
              "      <th>hosp_yn</th>\n",
              "      <th>icu_yn</th>\n",
              "      <th>death_yn</th>\n",
              "      <th>medcond_yn</th>\n",
              "    </tr>\n",
              "  </thead>\n",
              "  <tbody>\n",
              "    <tr>\n",
              "      <th>0</th>\n",
              "      <td>10/11/2020</td>\n",
              "      <td>NaN</td>\n",
              "      <td>Laboratory-confirmed case</td>\n",
              "      <td>Male</td>\n",
              "      <td>10 - 19 Years</td>\n",
              "      <td>Black, Non-Hispanic</td>\n",
              "      <td>No</td>\n",
              "      <td>Unknown</td>\n",
              "      <td>No</td>\n",
              "      <td>No</td>\n",
              "    </tr>\n",
              "    <tr>\n",
              "      <th>1</th>\n",
              "      <td>14/11/2020</td>\n",
              "      <td>10/11/2020</td>\n",
              "      <td>Laboratory-confirmed case</td>\n",
              "      <td>Male</td>\n",
              "      <td>10 - 19 Years</td>\n",
              "      <td>Black, Non-Hispanic</td>\n",
              "      <td>No</td>\n",
              "      <td>No</td>\n",
              "      <td>No</td>\n",
              "      <td>No</td>\n",
              "    </tr>\n",
              "    <tr>\n",
              "      <th>2</th>\n",
              "      <td>19/11/2020</td>\n",
              "      <td>09/11/2020</td>\n",
              "      <td>Laboratory-confirmed case</td>\n",
              "      <td>Male</td>\n",
              "      <td>10 - 19 Years</td>\n",
              "      <td>Black, Non-Hispanic</td>\n",
              "      <td>No</td>\n",
              "      <td>No</td>\n",
              "      <td>No</td>\n",
              "      <td>No</td>\n",
              "    </tr>\n",
              "    <tr>\n",
              "      <th>3</th>\n",
              "      <td>14/11/2020</td>\n",
              "      <td>NaN</td>\n",
              "      <td>Laboratory-confirmed case</td>\n",
              "      <td>Male</td>\n",
              "      <td>10 - 19 Years</td>\n",
              "      <td>Black, Non-Hispanic</td>\n",
              "      <td>Missing</td>\n",
              "      <td>Missing</td>\n",
              "      <td>No</td>\n",
              "      <td>Missing</td>\n",
              "    </tr>\n",
              "    <tr>\n",
              "      <th>4</th>\n",
              "      <td>13/11/2020</td>\n",
              "      <td>10/11/2020</td>\n",
              "      <td>Laboratory-confirmed case</td>\n",
              "      <td>Male</td>\n",
              "      <td>10 - 19 Years</td>\n",
              "      <td>Black, Non-Hispanic</td>\n",
              "      <td>No</td>\n",
              "      <td>No</td>\n",
              "      <td>No</td>\n",
              "      <td>Yes</td>\n",
              "    </tr>\n",
              "    <tr>\n",
              "      <th>...</th>\n",
              "      <td>...</td>\n",
              "      <td>...</td>\n",
              "      <td>...</td>\n",
              "      <td>...</td>\n",
              "      <td>...</td>\n",
              "      <td>...</td>\n",
              "      <td>...</td>\n",
              "      <td>...</td>\n",
              "      <td>...</td>\n",
              "      <td>...</td>\n",
              "    </tr>\n",
              "    <tr>\n",
              "      <th>594</th>\n",
              "      <td>18/11/2020</td>\n",
              "      <td>16/11/2020</td>\n",
              "      <td>Laboratory-confirmed case</td>\n",
              "      <td>Male</td>\n",
              "      <td>20 - 29 Years</td>\n",
              "      <td>Hispanic/Latino</td>\n",
              "      <td>Missing</td>\n",
              "      <td>Missing</td>\n",
              "      <td>Missing</td>\n",
              "      <td>Missing</td>\n",
              "    </tr>\n",
              "    <tr>\n",
              "      <th>595</th>\n",
              "      <td>21/10/2020</td>\n",
              "      <td>11/08/2020</td>\n",
              "      <td>Laboratory-confirmed case</td>\n",
              "      <td>Male</td>\n",
              "      <td>20 - 29 Years</td>\n",
              "      <td>Hispanic/Latino</td>\n",
              "      <td>No</td>\n",
              "      <td>Missing</td>\n",
              "      <td>No</td>\n",
              "      <td>Missing</td>\n",
              "    </tr>\n",
              "    <tr>\n",
              "      <th>596</th>\n",
              "      <td>07/08/2020</td>\n",
              "      <td>25/07/2020</td>\n",
              "      <td>Laboratory-confirmed case</td>\n",
              "      <td>Male</td>\n",
              "      <td>20 - 29 Years</td>\n",
              "      <td>Hispanic/Latino</td>\n",
              "      <td>No</td>\n",
              "      <td>Missing</td>\n",
              "      <td>Unknown</td>\n",
              "      <td>Missing</td>\n",
              "    </tr>\n",
              "    <tr>\n",
              "      <th>597</th>\n",
              "      <td>24/06/2020</td>\n",
              "      <td>25/04/2020</td>\n",
              "      <td>Laboratory-confirmed case</td>\n",
              "      <td>Male</td>\n",
              "      <td>20 - 29 Years</td>\n",
              "      <td>Hispanic/Latino</td>\n",
              "      <td>Unknown</td>\n",
              "      <td>Unknown</td>\n",
              "      <td>Unknown</td>\n",
              "      <td>Missing</td>\n",
              "    </tr>\n",
              "    <tr>\n",
              "      <th>598</th>\n",
              "      <td>14/11/2020</td>\n",
              "      <td>02/11/2020</td>\n",
              "      <td>Laboratory-confirmed case</td>\n",
              "      <td>Male</td>\n",
              "      <td>20 - 29 Years</td>\n",
              "      <td>Hispanic/Latino</td>\n",
              "      <td>Missing</td>\n",
              "      <td>Missing</td>\n",
              "      <td>Missing</td>\n",
              "      <td>Missing</td>\n",
              "    </tr>\n",
              "  </tbody>\n",
              "</table>\n",
              "<p>599 rows × 10 columns</p>\n",
              "</div>\n",
              "      <button class=\"colab-df-convert\" onclick=\"convertToInteractive('df-b5062ff1-3fea-4268-9c53-bebd645a84bb')\"\n",
              "              title=\"Convert this dataframe to an interactive table.\"\n",
              "              style=\"display:none;\">\n",
              "        \n",
              "  <svg xmlns=\"http://www.w3.org/2000/svg\" height=\"24px\"viewBox=\"0 0 24 24\"\n",
              "       width=\"24px\">\n",
              "    <path d=\"M0 0h24v24H0V0z\" fill=\"none\"/>\n",
              "    <path d=\"M18.56 5.44l.94 2.06.94-2.06 2.06-.94-2.06-.94-.94-2.06-.94 2.06-2.06.94zm-11 1L8.5 8.5l.94-2.06 2.06-.94-2.06-.94L8.5 2.5l-.94 2.06-2.06.94zm10 10l.94 2.06.94-2.06 2.06-.94-2.06-.94-.94-2.06-.94 2.06-2.06.94z\"/><path d=\"M17.41 7.96l-1.37-1.37c-.4-.4-.92-.59-1.43-.59-.52 0-1.04.2-1.43.59L10.3 9.45l-7.72 7.72c-.78.78-.78 2.05 0 2.83L4 21.41c.39.39.9.59 1.41.59.51 0 1.02-.2 1.41-.59l7.78-7.78 2.81-2.81c.8-.78.8-2.07 0-2.86zM5.41 20L4 18.59l7.72-7.72 1.47 1.35L5.41 20z\"/>\n",
              "  </svg>\n",
              "      </button>\n",
              "      \n",
              "  <style>\n",
              "    .colab-df-container {\n",
              "      display:flex;\n",
              "      flex-wrap:wrap;\n",
              "      gap: 12px;\n",
              "    }\n",
              "\n",
              "    .colab-df-convert {\n",
              "      background-color: #E8F0FE;\n",
              "      border: none;\n",
              "      border-radius: 50%;\n",
              "      cursor: pointer;\n",
              "      display: none;\n",
              "      fill: #1967D2;\n",
              "      height: 32px;\n",
              "      padding: 0 0 0 0;\n",
              "      width: 32px;\n",
              "    }\n",
              "\n",
              "    .colab-df-convert:hover {\n",
              "      background-color: #E2EBFA;\n",
              "      box-shadow: 0px 1px 2px rgba(60, 64, 67, 0.3), 0px 1px 3px 1px rgba(60, 64, 67, 0.15);\n",
              "      fill: #174EA6;\n",
              "    }\n",
              "\n",
              "    [theme=dark] .colab-df-convert {\n",
              "      background-color: #3B4455;\n",
              "      fill: #D2E3FC;\n",
              "    }\n",
              "\n",
              "    [theme=dark] .colab-df-convert:hover {\n",
              "      background-color: #434B5C;\n",
              "      box-shadow: 0px 1px 3px 1px rgba(0, 0, 0, 0.15);\n",
              "      filter: drop-shadow(0px 1px 2px rgba(0, 0, 0, 0.3));\n",
              "      fill: #FFFFFF;\n",
              "    }\n",
              "  </style>\n",
              "\n",
              "      <script>\n",
              "        const buttonEl =\n",
              "          document.querySelector('#df-b5062ff1-3fea-4268-9c53-bebd645a84bb button.colab-df-convert');\n",
              "        buttonEl.style.display =\n",
              "          google.colab.kernel.accessAllowed ? 'block' : 'none';\n",
              "\n",
              "        async function convertToInteractive(key) {\n",
              "          const element = document.querySelector('#df-b5062ff1-3fea-4268-9c53-bebd645a84bb');\n",
              "          const dataTable =\n",
              "            await google.colab.kernel.invokeFunction('convertToInteractive',\n",
              "                                                     [key], {});\n",
              "          if (!dataTable) return;\n",
              "\n",
              "          const docLinkHtml = 'Like what you see? Visit the ' +\n",
              "            '<a target=\"_blank\" href=https://colab.research.google.com/notebooks/data_table.ipynb>data table notebook</a>'\n",
              "            + ' to learn more about interactive tables.';\n",
              "          element.innerHTML = '';\n",
              "          dataTable['output_type'] = 'display_data';\n",
              "          await google.colab.output.renderOutput(dataTable, element);\n",
              "          const docLink = document.createElement('div');\n",
              "          docLink.innerHTML = docLinkHtml;\n",
              "          element.appendChild(docLink);\n",
              "        }\n",
              "      </script>\n",
              "    </div>\n",
              "  </div>\n",
              "  "
            ]
          },
          "metadata": {},
          "execution_count": 24
        }
      ]
    },
    {
      "cell_type": "markdown",
      "source": [
        "Data Visualization"
      ],
      "metadata": {
        "id": "fCgyZSZ0MkaZ"
      }
    },
    {
      "cell_type": "markdown",
      "source": [
        "Scatter Graph"
      ],
      "metadata": {
        "id": "ixNbdWwzT8ph"
      }
    },
    {
      "cell_type": "code",
      "source": [
        "plt.plot(dataset.age_group)\n",
        "plt.plot(dataset.current_status)\n",
        "\n"
      ],
      "metadata": {
        "colab": {
          "base_uri": "https://localhost:8080/",
          "height": 282
        },
        "id": "TypL2IczMsrd",
        "outputId": "9a403b80-8701-47b7-ad61-90094a47af30"
      },
      "execution_count": 7,
      "outputs": [
        {
          "output_type": "execute_result",
          "data": {
            "text/plain": [
              "[<matplotlib.lines.Line2D at 0x7f1a97762690>]"
            ]
          },
          "metadata": {},
          "execution_count": 7
        },
        {
          "output_type": "display_data",
          "data": {
            "text/plain": [
              "<Figure size 432x288 with 1 Axes>"
            ],
            "image/png": "[encoded data removed]"
          },
          "metadata": {
            "needs_background": "light"
          }
        }
      ]
    },
    {
      "cell_type": "markdown",
      "source": [
        "Scatter Plot"
      ],
      "metadata": {
        "id": "ijg_j7NQUIYL"
      }
    },
    {
      "cell_type": "code",
      "source": [
        "import matplotlib.pyplot as plt\n",
        "\n",
        "\n",
        "x=[5,10,15,20,25,30]\n",
        "y=[10,14,18,21,24,29]\n",
        "\n",
        "plt.scatter(x,y)"
      ],
      "metadata": {
        "colab": {
          "base_uri": "https://localhost:8080/",
          "height": 282
        },
        "id": "lPGGVCBHUQEO",
        "outputId": "cece24f3-8ae6-4459-ff27-921fbb15a26e"
      },
      "execution_count": 8,
      "outputs": [
        {
          "output_type": "execute_result",
          "data": {
            "text/plain": [
              "<matplotlib.collections.PathCollection at 0x7f1a972ade10>"
            ]
          },
          "metadata": {},
          "execution_count": 8
        },
        {
          "output_type": "display_data",
          "data": {
            "text/plain": [
              "<Figure size 432x288 with 1 Axes>"
            ],
            "image/png": "[encoded data removed]"
          },
          "metadata": {
            "needs_background": "light"
          }
        }
      ]
    },
    {
      "cell_type": "markdown",
      "source": [
        "Line Graph"
      ],
      "metadata": {
        "id": "maF5YiwjNFr_"
      }
    },
    {
      "cell_type": "code",
      "source": [
        "import matplotlib.pyplot as plt\n",
        "\n",
        "v = [10,19,20,29]\n",
        "plt.plot(v)\n",
        "plt.ylabel(\"age_group\t\")\n",
        "plt.xlabel(\"Race and ethnicity (combined)\")\n",
        "plt.title('Distribution')\n",
        "plt.show()"
      ],
      "metadata": {
        "id": "xTJUhjnWMpbS",
        "outputId": "92d0336b-fe22-4ef4-fb08-9bdaff465365",
        "colab": {
          "base_uri": "https://localhost:8080/",
          "height": 364
        }
      },
      "execution_count": 25,
      "outputs": [
        {
          "output_type": "stream",
          "name": "stderr",
          "text": [
            "/usr/local/lib/python3.7/dist-packages/matplotlib/backends/backend_agg.py:214: RuntimeWarning: Glyph 9 missing from current font.\n",
            "  font.set_text(s, 0.0, flags=flags)\n",
            "/usr/local/lib/python3.7/dist-packages/matplotlib/backends/backend_agg.py:183: RuntimeWarning: Glyph 9 missing from current font.\n",
            "  font.set_text(s, 0, flags=flags)\n"
          ]
        },
        {
          "output_type": "display_data",
          "data": {
            "text/plain": [
              "<Figure size 432x288 with 1 Axes>"
            ],
            "image/png": "[encoded data removed]"
          },
          "metadata": {
            "needs_background": "light"
          }
        }
      ]
    },
    {
      "cell_type": "markdown",
      "source": [
        "Pie Chart"
      ],
      "metadata": {
        "id": "_KMKd5cK9jdo"
      }
    },
    {
      "cell_type": "code",
      "source": [
        "import matplotlib.pyplot as plt\n",
        "\n",
        "race = \"Black, Non-Hispanic\",\"White, Non-Hispanic\",\"Unknown\",\"American Indian\",\"Hispanic/Latino\"\n",
        "amount = [40, 15, 10, 10, 25]\n",
        "\n",
        "plt.pie (amount, labels=race)"
      ],
      "metadata": {
        "colab": {
          "base_uri": "https://localhost:8080/",
          "height": 422
        },
        "id": "SElUYzcb9hVB",
        "outputId": "cadf5a1d-42e5-4e42-d02b-7dd9e6de0ce7"
      },
      "execution_count": 29,
      "outputs": [
        {
          "output_type": "execute_result",
          "data": {
            "text/plain": [
              "([<matplotlib.patches.Wedge at 0x7f1a94c03c90>,\n",
              "  <matplotlib.patches.Wedge at 0x7f1a94c1d090>,\n",
              "  <matplotlib.patches.Wedge at 0x7f1a94c1d150>,\n",
              "  <matplotlib.patches.Wedge at 0x7f1a94c1d7d0>,\n",
              "  <matplotlib.patches.Wedge at 0x7f1a94c25690>],\n",
              " [Text(0.33991867422268784, 1.0461621742897658, 'Black, Non-Hispanic'),\n",
              "  Text(-1.0864571843213078, 0.1720778505113769, 'White, Non-Hispanic'),\n",
              "  Text(-0.8899186423571203, -0.6465638483438895, 'Unknown'),\n",
              "  Text(-0.3399186007611086, -1.0461621981588756, 'American Indian'),\n",
              "  Text(0.777817532129725, -0.7778173864806729, 'Hispanic/Latino')])"
            ]
          },
          "metadata": {},
          "execution_count": 29
        },
        {
          "output_type": "display_data",
          "data": {
            "text/plain": [
              "<Figure size 432x288 with 1 Axes>"
            ],
            "image/png": "[encoded data removed]"
          },
          "metadata": {}
        }
      ]
    },
    {
      "cell_type": "markdown",
      "source": [
        "Histogram"
      ],
      "metadata": {
        "id": "_4RFHqRxKsPl"
      }
    },
    {
      "cell_type": "code",
      "source": [
        ""
      ],
      "metadata": {
        "id": "xGZNSJ7UKr4Z"
      },
      "execution_count": null,
      "outputs": []
    }
  ]
}